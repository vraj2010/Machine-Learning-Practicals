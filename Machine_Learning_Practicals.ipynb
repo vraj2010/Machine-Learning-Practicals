{
  "nbformat": 4,
  "nbformat_minor": 0,
  "metadata": {
    "colab": {
      "provenance": []
    },
    "kernelspec": {
      "name": "python3",
      "display_name": "Python 3"
    },
    "language_info": {
      "name": "python"
    }
  },
  "cells": [
    {
      "cell_type": "markdown",
      "source": [
        "# **Practical 1**"
      ],
      "metadata": {
        "id": "CeyL6h-fMUny"
      }
    },
    {
      "cell_type": "markdown",
      "source": [
        "**Aim -- Explore any one machine learning tools (like Weka, Tensorflow, Scikit-learn, Colab, etc.)**"
      ],
      "metadata": {
        "id": "SYIY0zaONHpk"
      }
    },
    {
      "cell_type": "code",
      "execution_count": null,
      "metadata": {
        "colab": {
          "base_uri": "https://localhost:8080/"
        },
        "id": "51dXPFfaLG4i",
        "outputId": "362f68f4-2d29-4385-8165-685cb4147e88"
      },
      "outputs": [
        {
          "output_type": "stream",
          "name": "stdout",
          "text": [
            "Vraj       10.0\n",
            "Vatsal      8.0\n",
            "Vainavi     9.0\n",
            "Dharmil     8.0\n",
            "Rahi        7.5\n",
            "dtype: float64\n"
          ]
        }
      ],
      "source": [
        "# Importing pandas library\n",
        "import pandas as pd\n",
        "\n",
        "# Declaring a list\n",
        "a = [10, 8, 9, 8, 7.5]\n",
        "\n",
        "# Using series function of pandas library to provide labels to list elements\n",
        "var = pd.Series(a, index = [\"Vraj\", \"Vatsal\", \"Vainavi\", \"Dharmil\", \"Rahi\"])\n",
        "\n",
        "print(var)"
      ]
    },
    {
      "cell_type": "code",
      "source": [],
      "metadata": {
        "id": "t2GDaYF7NC0h"
      },
      "execution_count": null,
      "outputs": []
    },
    {
      "cell_type": "code",
      "source": [
        "# Taking Input from User\n",
        "name=input(\"Enter Name: \")\n",
        "number=input(\"Enter Mobile Number: \")\n",
        "email=input(\"Enter Email ID: \")\n",
        "birthdate=input(\"Enter Date of Birth: \")\n",
        "\n",
        "# Printing the Input got from the User\n",
        "print(name)\n",
        "print(number)\n",
        "print(email)\n",
        "print(birthdate)"
      ],
      "metadata": {
        "colab": {
          "base_uri": "https://localhost:8080/"
        },
        "id": "ELxLa2azmFMJ",
        "outputId": "1c967c67-dd80-452f-9636-85e033ed03ae"
      },
      "execution_count": null,
      "outputs": [
        {
          "output_type": "stream",
          "name": "stdout",
          "text": [
            "Enter Name: Vraj Patel\n",
            "Enter Mobile Number: 8160084728\n",
            "Enter Email ID: vraj20102005@gmail.com\n",
            "Enter Date of Birth: 20-10-2005\n",
            "Vraj Patel\n",
            "8160084728\n",
            "vraj20102005@gmail.com\n",
            "20-10-2005\n"
          ]
        }
      ]
    },
    {
      "cell_type": "code",
      "source": [
        "10 + 20"
      ],
      "metadata": {
        "colab": {
          "base_uri": "https://localhost:8080/"
        },
        "id": "CPo44Li6o1q3",
        "outputId": "eab83750-c94c-4534-916c-3ced9c3c6161"
      },
      "execution_count": null,
      "outputs": [
        {
          "output_type": "execute_result",
          "data": {
            "text/plain": [
              "30"
            ]
          },
          "metadata": {},
          "execution_count": 4
        }
      ]
    },
    {
      "cell_type": "code",
      "source": [
        "# Checking whether a String is Palindrome or not\n",
        "print(\"Checking whether a String is Palindrome or not\")\n",
        "\n",
        "# Taking Input from User\n",
        "string = input((\"Enter a String: \"))\n",
        "\n",
        "# Slicing the string in reverse fashion and comparing it with original string\n",
        "if(string == string[::-1]):\n",
        "      print(\"String is Palindrome\")\n",
        "else:\n",
        "      print(\"String is not a Palindrome\")"
      ],
      "metadata": {
        "colab": {
          "base_uri": "https://localhost:8080/"
        },
        "id": "7pVvwJwOo1oT",
        "outputId": "d88a57cc-3cff-4748-886d-db74ef5a6d5f"
      },
      "execution_count": null,
      "outputs": [
        {
          "output_type": "stream",
          "name": "stdout",
          "text": [
            "Checking whether a String is Palindrome or not\n",
            "Enter a String: 10101\n",
            "String is Palindrome\n"
          ]
        }
      ]
    },
    {
      "cell_type": "markdown",
      "source": [
        "# **Practical 2**"
      ],
      "metadata": {
        "id": "dyMENP9rhxTy"
      }
    },
    {
      "cell_type": "markdown",
      "source": [
        "**Aim -- Write a NumPy program to implement following operation**\n",
        "\n",
        "1.   **To convert a list of numeric values into a one-dimensional NumPy array**\n",
        "2.   **To create a 3x3 matrix with values ranging from 2 to 10**\n",
        "3.   **To append values at the end of an array**\n",
        "4.   **To create another shape from an array without changing its data (3\\*2 to 2\\*3)**"
      ],
      "metadata": {
        "id": "FxyDvDVjiR4r"
      }
    },
    {
      "cell_type": "code",
      "source": [
        "# Importing NumPy Library\n",
        "import numpy as np\n",
        "\n",
        "# Converting a list of numeric values into a One-dimensional NumPy Array\n",
        "print(\"Converting a list of numeric values into a One-dimensional NumPy Array\")\n",
        "\n",
        "# Declaring a list\n",
        "arr1 = [1, 2, 3, 4, 5, 6, 7, 8, 9]\n",
        "print(\"Original Array : \", arr1)\n",
        "\n",
        "# Converting the list to NumPy Array\n",
        "arr2 = np.array(arr1)\n",
        "print(\"One-dimensional NumPy Array : \", arr2)"
      ],
      "metadata": {
        "colab": {
          "base_uri": "https://localhost:8080/"
        },
        "id": "wbMJQC3fjZKh",
        "outputId": "381f0b82-a0ad-47d7-bfdf-a4446f760937"
      },
      "execution_count": null,
      "outputs": [
        {
          "output_type": "stream",
          "name": "stdout",
          "text": [
            "Converting a list of numeric values into a One-dimensional NumPy Array\n",
            "Original Array :  [1, 2, 3, 4, 5, 6, 7, 8, 9]\n",
            "One-dimensional NumPy Array :  [1 2 3 4 5 6 7 8 9]\n"
          ]
        }
      ]
    },
    {
      "cell_type": "code",
      "source": [
        "# Importing NumPy Library\n",
        "import numpy as np\n",
        "\n",
        "# Creating a 3x3 matrix with values ranging from 2 to 10\n",
        "print(\"Creating a 3x3 matrix with values ranging from 2 to 10\")\n",
        "\n",
        "# Declaring a NumPy Array\n",
        "arr1 = np.arange(2, 11)\n",
        "print(\"1 * 9 NumPy Array : \\n\", arr1)\n",
        "\n",
        "# Reshaping 1*9 Array to 3*3 Array\n",
        "arr2 = arr1.reshape(3,3)\n",
        "print(\"3 * 3 NumPy Array : \\n\", arr2)"
      ],
      "metadata": {
        "colab": {
          "base_uri": "https://localhost:8080/"
        },
        "id": "ZHFt0ar128_q",
        "outputId": "8c9e492e-b41b-4829-ecd8-c8d8289016f5"
      },
      "execution_count": null,
      "outputs": [
        {
          "output_type": "stream",
          "name": "stdout",
          "text": [
            "Creating a 3x3 matrix with values ranging from 2 to 10\n",
            "1 * 9 NumPy Array : \n",
            " [ 2  3  4  5  6  7  8  9 10]\n",
            "3 * 3 NumPy Array : \n",
            " [[ 2  3  4]\n",
            " [ 5  6  7]\n",
            " [ 8  9 10]]\n"
          ]
        }
      ]
    },
    {
      "cell_type": "code",
      "source": [
        "# Importing NumPy Library\n",
        "import numpy as np\n",
        "\n",
        "# Appending values at the end of an Array\n",
        "print(\"Appending values at the end of an Array\")\n",
        "\n",
        "# Declaring a NumPy Array\n",
        "arr1 = np.array([1, 2, 3, 4, 5])\n",
        "print(\"Original Array : \", arr1)\n",
        "\n",
        "# Appending values using the append function\n",
        "arr2 = np.append(arr1, [6, 7, 8, 9])\n",
        "print(\"Array after Appending values : \", arr2)"
      ],
      "metadata": {
        "colab": {
          "base_uri": "https://localhost:8080/"
        },
        "id": "d1MjOjw83U2R",
        "outputId": "37e6404b-05f4-4f65-a832-79cbdbcf0d47"
      },
      "execution_count": null,
      "outputs": [
        {
          "output_type": "stream",
          "name": "stdout",
          "text": [
            "Appending values at the end of an Array\n",
            "Original Array :  [1 2 3 4 5]\n",
            "Array after Appending values :  [1 2 3 4 5 6 7 8 9]\n"
          ]
        }
      ]
    },
    {
      "cell_type": "code",
      "source": [
        "# Importing NumPy Library\n",
        "import numpy as np\n",
        "\n",
        "# Creating another shape from an array without changing its data (3*2 to 2*3)\n",
        "print(\"Creating another shape from an array without changing its data (3*2 to 2*3)\")\n",
        "\n",
        "# Declaring 3*2 NumPy Array\n",
        "arr1 = np.array([[1, 2], [3, 4], [5, 6]])\n",
        "print(\"3 * 2 NumPy Array : \\n\",arr1)\n",
        "\n",
        "# Reshaping 3*2 Array to 2*3 Array\n",
        "arr2 = arr1.reshape(2, 3)\n",
        "print(\"2 * 3 NumPy Array : \\n\",arr2)"
      ],
      "metadata": {
        "colab": {
          "base_uri": "https://localhost:8080/"
        },
        "id": "kl40Cuaw3Umu",
        "outputId": "1291a0cd-15b9-4630-ff20-e69fabf26873"
      },
      "execution_count": null,
      "outputs": [
        {
          "output_type": "stream",
          "name": "stdout",
          "text": [
            "Creating another shape from an array without changing its data (3*2 to 2*3)\n",
            "3 * 2 NumPy Array : \n",
            " [[1 2]\n",
            " [3 4]\n",
            " [5 6]]\n",
            "2 * 3 NumPy Array : \n",
            " [[1 2 3]\n",
            " [4 5 6]]\n"
          ]
        }
      ]
    },
    {
      "cell_type": "markdown",
      "source": [
        "# **Practical 3**"
      ],
      "metadata": {
        "id": "oNanT7NWhxQ-"
      }
    },
    {
      "cell_type": "markdown",
      "source": [
        "**Aim -- Write a NumPy program to implement following operation**\n",
        "\n",
        "1.   **To split an array of 14 elements into 3 arrays, each with 2, 4, and 8 elements in the original order**\n",
        "2.   **To stack arrays horizontally (column wise).**"
      ],
      "metadata": {
        "id": "O0or7MGbiSZS"
      }
    },
    {
      "cell_type": "code",
      "source": [
        "# Importing NumPy Library\n",
        "import numpy as np\n",
        "\n",
        "# Spliting an array of 14 elements into 3 arrays, each with 2, 4, and 8 elements in the original order\n",
        "print(\"Spliting an array of 14 elements into 3 arrays, each with 2, 4, and 8 elements in the original order\")\n",
        "\n",
        "# Declaring NumPy Array with 14 Elements\n",
        "arr1 = np.array([1, 2, 3, 4, 5, 6, 7, 8, 9, 10, 11, 12, 13, 14])\n",
        "print(\"Original Array : \\n\", arr1)\n",
        "\n",
        "# Splitting Array using spit function\n",
        "arr2 = np.split(arr1, [2, 6])\n",
        "print('Array after Splitting : \\n',arr2)"
      ],
      "metadata": {
        "colab": {
          "base_uri": "https://localhost:8080/"
        },
        "id": "gtNNf33oj1f7",
        "outputId": "29bd599f-783c-4d2d-f49a-535b513349fa"
      },
      "execution_count": null,
      "outputs": [
        {
          "output_type": "stream",
          "name": "stdout",
          "text": [
            "Spliting an array of 14 elements into 3 arrays, each with 2, 4, and 8 elements in the original order\n",
            "Original Array : \n",
            " [ 1  2  3  4  5  6  7  8  9 10 11 12 13 14]\n",
            "Array after Splitting : \n",
            " [array([1, 2]), array([3, 4, 5, 6]), array([ 7,  8,  9, 10, 11, 12, 13, 14])]\n"
          ]
        }
      ]
    },
    {
      "cell_type": "code",
      "source": [
        "# Importing NumPy Library\n",
        "import numpy as np\n",
        "\n",
        "# Stacking arrays horizontally (column wise)\n",
        "print(\"Stacking arrays horizontally and vertically\")\n",
        "\n",
        "# Declaring NumPy Arrays\n",
        "a = np.array([ [1, 2], [3, 4] ])\n",
        "b = np.array([ [5, 6], [7, 8] ])\n",
        "\n",
        "# Using hstack and vstack functions to stack arrays horizontally and vertically\n",
        "c = np.hstack((a, b))\n",
        "d = np.vstack((a,b))\n",
        "\n",
        "print(\"Arrays stacked horizontally (column wise) : \\n\",c)\n",
        "print(\"Arrays stacked vertically (row wise) : \\n\",d)"
      ],
      "metadata": {
        "colab": {
          "base_uri": "https://localhost:8080/"
        },
        "id": "RRvQEheG-osV",
        "outputId": "05c3ee71-4950-43b1-a2e3-c1d72bd0ad2a"
      },
      "execution_count": null,
      "outputs": [
        {
          "output_type": "stream",
          "name": "stdout",
          "text": [
            "Stacking arrays horizontally and vertically\n",
            "Arrays stacked horizontally (column wise) : \n",
            " [[1 2 5 6]\n",
            " [3 4 7 8]]\n",
            "Arrays stacked vertically (row wise) : \n",
            " [[1 2]\n",
            " [3 4]\n",
            " [5 6]\n",
            " [7 8]]\n"
          ]
        }
      ]
    },
    {
      "cell_type": "markdown",
      "source": [
        "# **Practical 4**"
      ],
      "metadata": {
        "id": "7cXX1bHIhxOI"
      }
    },
    {
      "cell_type": "markdown",
      "source": [
        "**Aim -- Write a NumPy program to implement following operation**\n",
        "\n",
        "1.   **To add, subtract, multiply, divide arguments element-wise**\n",
        "2.   **To round elements of the array to the nearest integer**\n",
        "3.   **To calculate mean across dimension, in a 2D numpy array**\n",
        "4.   **To calculate the difference between neighboring elements, element-wise of a given array**"
      ],
      "metadata": {
        "id": "pZ2uvkOsiS6W"
      }
    },
    {
      "cell_type": "code",
      "source": [
        "# Importing NumPy Library\n",
        "import numpy as np\n",
        "\n",
        "# Adding, Subtracting, Multiplying and Dividing arguments element-wise\n",
        "print(\"Adding, Subtracting, Multiplying and Dividing arguments element-wise\")\n",
        "\n",
        "# Performing Mathematical Operations and Displaying output\n",
        "print(\"Addition : \", np.add(3, 4))\n",
        "print(\"Subtraction : \", np.subtract(4, 3))\n",
        "print(\"Multiplication : \", np.multiply(3, 4))\n",
        "print(\"Division : \", np.divide(3, 4))"
      ],
      "metadata": {
        "colab": {
          "base_uri": "https://localhost:8080/"
        },
        "id": "hjXNa7E-kXbP",
        "outputId": "9ff524ed-eb24-4985-ec4d-d90e02d4b905"
      },
      "execution_count": null,
      "outputs": [
        {
          "output_type": "stream",
          "name": "stdout",
          "text": [
            "Adding, Subtracting, Multiplying and Dividing arguments element-wise\n",
            "Addition :  7\n",
            "Subtraction :  1\n",
            "Multiplication :  12\n",
            "Division :  0.75\n"
          ]
        }
      ]
    },
    {
      "cell_type": "code",
      "source": [
        "# Importing NumPy Library\n",
        "import numpy as np\n",
        "\n",
        "# Rounding elements of the array to the nearest integer\n",
        "print(\"Rounding elements of the array to the nearest integer\")\n",
        "\n",
        "# Declaring NumPy Array\n",
        "arr1 = np.array([0.1, 0.2, 0.3, 0.4, 0.5, 0.6, 0.7, 0.8, 0.9])\n",
        "print('Original Array : ',arr1)\n",
        "\n",
        "# Rounding Elements of Array using round function\n",
        "arr2 = np.rint(arr1)\n",
        "print(\"Array after Rounding Elements : \",arr2)"
      ],
      "metadata": {
        "colab": {
          "base_uri": "https://localhost:8080/"
        },
        "id": "hu49RrcFCQwi",
        "outputId": "54784952-13e0-4616-a3ab-af7f33550eae"
      },
      "execution_count": null,
      "outputs": [
        {
          "output_type": "stream",
          "name": "stdout",
          "text": [
            "Rounding elements of the array to the nearest integer\n",
            "Original Array :  [0.1 0.2 0.3 0.4 0.5 0.6 0.7 0.8 0.9]\n",
            "Array after Rounding Elements :  [0. 0. 0. 0. 0. 1. 1. 1. 1.]\n"
          ]
        }
      ]
    },
    {
      "cell_type": "code",
      "source": [
        "# Importing NumPy Library\n",
        "import numpy as np\n",
        "\n",
        "# Calculating mean across dimension in a 2D NumPy Array\n",
        "print(\"Calculating mean across dimension in a 2D NumPy Array\")\n",
        "\n",
        "# Declaring NumPy Arrays\n",
        "a = np.array([[2, 4],[3, 5]])\n",
        "\n",
        "# Calculating Mean using mean function\n",
        "b = np.mean(a, axis=0)\n",
        "c = np.mean(a, axis=1)\n",
        "print(\"Applying mean() function along axis 0 : \",b)\n",
        "print(\"Applying mean() function along axis 1 : \",c)"
      ],
      "metadata": {
        "colab": {
          "base_uri": "https://localhost:8080/"
        },
        "id": "v75Dj1MNExLx",
        "outputId": "09e82e2b-2f8a-494e-89bb-5bba26fd998b"
      },
      "execution_count": null,
      "outputs": [
        {
          "output_type": "stream",
          "name": "stdout",
          "text": [
            "Calculating mean across dimension in a 2D NumPy Array\n",
            "Applying mean() function along axis 0 :  [2.5 4.5]\n",
            "Applying mean() function along axis 1 :  [3. 4.]\n"
          ]
        }
      ]
    },
    {
      "cell_type": "code",
      "source": [
        "# Importing NumPy Library\n",
        "import numpy as np\n",
        "\n",
        "# Calculating the difference between neighboring elements, element-wise of a given Array\n",
        "print(\"Calculating the difference between neighboring elements, element-wise of a given Array\")\n",
        "\n",
        "# Declaring NumPy Array\n",
        "arr = np.array([1, 2, 3, 4, 5, 7, 7, 8, 9, 10, 11, 13, 13, 14])\n",
        "print(\"Original Array : \",arr)\n",
        "\n",
        "# Calculating Difference of elements using diff function\n",
        "diff = np.diff(arr)\n",
        "print(\"Difference : \", diff)"
      ],
      "metadata": {
        "colab": {
          "base_uri": "https://localhost:8080/"
        },
        "id": "wESLfCUhExAe",
        "outputId": "92ad3577-05ea-4241-c54b-e8b84ed0e13e"
      },
      "execution_count": null,
      "outputs": [
        {
          "output_type": "stream",
          "name": "stdout",
          "text": [
            "Calculating the difference between neighboring elements, element-wise of a given Array\n",
            "Original Array :  [ 1  2  3  4  5  7  7  8  9 10 11 13 13 14]\n",
            "Difference :  [1 1 1 1 2 0 1 1 1 1 2 0 1]\n"
          ]
        }
      ]
    },
    {
      "cell_type": "markdown",
      "source": [
        "# **Practical 5**"
      ],
      "metadata": {
        "id": "zpT-Y_RjhxLL"
      }
    },
    {
      "cell_type": "markdown",
      "source": [
        "**Aim -- Write a NumPy program to implement following operation**\n",
        "\n",
        "1. **To find the maximum and minimum value of a given flattened array**\n",
        "2. **To compute the mean, standard deviation, and variance of a given array along the second axis**\n"
      ],
      "metadata": {
        "id": "2-cMOVdoiThp"
      }
    },
    {
      "cell_type": "code",
      "source": [
        "# Importing NumPy Library\n",
        "import numpy as np\n",
        "\n",
        "# Declaring NumPy Flattened Array\n",
        "a = np.array([[2, 3, 4],[5, 6, 7]])\n",
        "print(\"Original Array : \\n\", a)\n",
        "\n",
        "# Finding max value element from the Array\n",
        "max = np.amax(a)\n",
        "print(\"Maximum Value : \",max)\n",
        "\n",
        "# Finding min value element from the Array\n",
        "min = np.amin(a)\n",
        "print(\"Minimum Value : \",min)"
      ],
      "metadata": {
        "colab": {
          "base_uri": "https://localhost:8080/"
        },
        "id": "da-XNbqq1_BD",
        "outputId": "259e2ae1-ea93-4f67-ae64-0752b5297cb2"
      },
      "execution_count": null,
      "outputs": [
        {
          "output_type": "stream",
          "name": "stdout",
          "text": [
            "Original Array : \n",
            " [[2 3 4]\n",
            " [5 6 7]]\n",
            "Maximum Value :  7\n",
            "Minimum Value :  2\n"
          ]
        }
      ]
    },
    {
      "cell_type": "code",
      "source": [
        "# Importing NumPy Library\n",
        "import numpy as np\n",
        "\n",
        "# Declaring Array using arange function\n",
        "a = np.arange(10)\n",
        "print(\"Original Array : \",a)\n",
        "\n",
        "# Calculating mean for the given array.\n",
        "m = np.mean(a)\n",
        "print(\"Mean : \",m)\n",
        "\n",
        "# Calculating Standard Deviation for the given array.\n",
        "s = np.std(a)\n",
        "print(\"Standard Deviation : \",s)\n",
        "\n",
        "# Calculating Variance for the given array.\n",
        "v = np.var(a)\n",
        "print(\"Variance : \",v)"
      ],
      "metadata": {
        "colab": {
          "base_uri": "https://localhost:8080/"
        },
        "id": "UIu_9VX51-3O",
        "outputId": "d075b005-f3ab-4266-9151-7d1779d72ccf"
      },
      "execution_count": null,
      "outputs": [
        {
          "output_type": "stream",
          "name": "stdout",
          "text": [
            "Original Array :  [0 1 2 3 4 5 6 7 8 9]\n",
            "Mean :  4.5\n",
            "Standard Deviation :  2.8722813232690143\n",
            "Variance :  8.25\n"
          ]
        }
      ]
    },
    {
      "cell_type": "markdown",
      "source": [
        "# **Practical 6**"
      ],
      "metadata": {
        "id": "DT6O11b8hxIN"
      }
    },
    {
      "cell_type": "markdown",
      "source": [
        "**Aim -- Write a Pandas program to implement following operation**\n",
        "\n",
        "1. **To convert a NumPy array to a Pandas series**\n",
        "2. **To convert the first column of a DataFrame as a Series**\n",
        "3. **To create the mean and standard deviation of the data of a given Series**\n",
        "4. **To sort a given Series**"
      ],
      "metadata": {
        "id": "YS_rhJgMiUHo"
      }
    },
    {
      "cell_type": "code",
      "source": [
        "# Importing NumPy Library and Pandas Library\n",
        "import numpy as np\n",
        "import pandas as pd\n",
        "\n",
        "# Declaring NumPy Array\n",
        "a = np.array(['V', 'R', 'A', 'J'])\n",
        "columns = np.array([1, 2, 3, 4])\n",
        "print(\"NumPy Array : \\n\",a)\n",
        "\n",
        "# Converting Array to Series\n",
        "s = pd.Series(a, index=columns)\n",
        "print(\"Pandas Series : \")\n",
        "print(s)"
      ],
      "metadata": {
        "colab": {
          "base_uri": "https://localhost:8080/"
        },
        "id": "9hTTM3yl7xHe",
        "outputId": "ed1d3538-0226-4ba1-d4b6-957b9c173e1a"
      },
      "execution_count": null,
      "outputs": [
        {
          "output_type": "stream",
          "name": "stdout",
          "text": [
            "NumPy Array : \n",
            " ['V' 'R' 'A' 'J']\n",
            "Pandas Series : \n",
            "1    V\n",
            "2    R\n",
            "3    A\n",
            "4    J\n",
            "dtype: object\n"
          ]
        }
      ]
    },
    {
      "cell_type": "code",
      "source": [
        "# Importing Pandas Library\n",
        "import pandas as pd\n",
        "\n",
        "# Declaring Dictionary\n",
        "dict = {'Name': ['Vraj', 'Vainavi', 'Dharmil', 'Vatsal'],\n",
        "       'Age': [18, 17, 16, 17,]}\n",
        "\n",
        "# Declaring DataFrame\n",
        "df = pd.DataFrame(data = dict)\n",
        "print(\"Original DataFrame : \")\n",
        "print(df, end=\"\\n\\n\")\n",
        "\n",
        "# Converting First Column of DataFrame to Series\n",
        "s1 = df.iloc[:,0]\n",
        "print(\"1st column of DataFrame converted to Series : \")\n",
        "print(s1)"
      ],
      "metadata": {
        "colab": {
          "base_uri": "https://localhost:8080/"
        },
        "id": "LB4dlrjNQLQO",
        "outputId": "a91f7563-c4eb-4203-b67d-18d2cf6b9b47"
      },
      "execution_count": null,
      "outputs": [
        {
          "output_type": "stream",
          "name": "stdout",
          "text": [
            "Original DataFrame : \n",
            "      Name  Age\n",
            "0     Vraj   18\n",
            "1  Vainavi   17\n",
            "2  Dharmil   16\n",
            "3   Vatsal   17\n",
            "\n",
            "1st column of DataFrame converted to Series : \n",
            "0       Vraj\n",
            "1    Vainavi\n",
            "2    Dharmil\n",
            "3     Vatsal\n",
            "Name: Name, dtype: object\n"
          ]
        }
      ]
    },
    {
      "cell_type": "code",
      "source": [
        "# Importing Pandas Library\n",
        "import pandas as pd\n",
        "\n",
        "# Declaring Series using Series function\n",
        "s = pd.Series(data=[1, 2, 3, 4, 5, 6])\n",
        "print(\"Original Series : \")\n",
        "print(s, end=\"\\n\\n\")\n",
        "\n",
        "# Calculating Mean\n",
        "m = s.mean()\n",
        "print(\"Mean : \",m)\n",
        "\n",
        "# Calculating Standard Deviation\n",
        "s = s.std()\n",
        "print(\"Standard Deviation : \",s)"
      ],
      "metadata": {
        "id": "qIRKakrXpQgT",
        "colab": {
          "base_uri": "https://localhost:8080/"
        },
        "outputId": "03a9bebc-4455-4088-cb9f-d09af814217b"
      },
      "execution_count": null,
      "outputs": [
        {
          "output_type": "stream",
          "name": "stdout",
          "text": [
            "Original Series : \n",
            "0    1\n",
            "1    2\n",
            "2    3\n",
            "3    4\n",
            "4    5\n",
            "5    6\n",
            "dtype: int64\n",
            "\n",
            "Mean :  3.5\n",
            "Standard Deviation :  1.8708286933869707\n"
          ]
        }
      ]
    },
    {
      "cell_type": "code",
      "source": [
        "# Importing Pandas Library\n",
        "import pandas as pd\n",
        "\n",
        "# Declaring Series using Series function\n",
        "s = pd.Series(data=[9, 7, 5, 4, 1, 2])\n",
        "print(\"Original Series : \")\n",
        "print(s, end=\"\\n\\n\")\n",
        "\n",
        "# Performing Sort Operation\n",
        "sorted_s = s.sort_values()\n",
        "print(\"Sorted Data Series : \")\n",
        "print(sorted_s)"
      ],
      "metadata": {
        "colab": {
          "base_uri": "https://localhost:8080/"
        },
        "id": "o0L1m5DEpT7A",
        "outputId": "57f77374-2dd3-4c88-f5d2-0076a891431c"
      },
      "execution_count": null,
      "outputs": [
        {
          "output_type": "stream",
          "name": "stdout",
          "text": [
            "Original Series : \n",
            "0    9\n",
            "1    7\n",
            "2    5\n",
            "3    4\n",
            "4    1\n",
            "5    2\n",
            "dtype: int64\n",
            "\n",
            "Sorted Data Series : \n",
            "4    1\n",
            "5    2\n",
            "3    4\n",
            "2    5\n",
            "1    7\n",
            "0    9\n",
            "dtype: int64\n"
          ]
        }
      ]
    },
    {
      "cell_type": "markdown",
      "source": [
        "# **Practical 7**"
      ],
      "metadata": {
        "id": "bA_6hgfdhxFD"
      }
    },
    {
      "cell_type": "markdown",
      "source": [
        "**Aim -- Write a Pandas program to implement following operation**\n",
        "\n",
        "1. **To create a dataframe from a dictionary and display it**\n",
        "2. **To sort the DataFrame first by 'name' in ascending order**\n",
        "3. **To delete the one specific column from the DataFrame**\n",
        "4. **To write a DataFrame to CSV file using tab separator**\n"
      ],
      "metadata": {
        "id": "JwYbpMksiUxB"
      }
    },
    {
      "cell_type": "code",
      "source": [
        "# Importing Pandas Library\n",
        "import pandas as pd\n",
        "\n",
        "# Declaring Dictionary\n",
        "dict = {'Name': ['Vraj', 'Vainavi', 'Dharmil', 'Vatsal'],\n",
        "       'Age': [18, 17, 16, 17,]}\n",
        "print(\"Dictionary : \",dict, end=\"\\n\\n\")\n",
        "\n",
        "# Converting Dictionary to DataFrame\n",
        "df = pd.DataFrame(data = dict)\n",
        "print(\"DataFrame : \")\n",
        "print(df)"
      ],
      "metadata": {
        "id": "CWJ_FnhI8xrk",
        "colab": {
          "base_uri": "https://localhost:8080/"
        },
        "outputId": "d30f888f-340c-40aa-ad8f-9f181c0cc2b7"
      },
      "execution_count": null,
      "outputs": [
        {
          "output_type": "stream",
          "name": "stdout",
          "text": [
            "Dictionary :  {'Name': ['Vraj', 'Vainavi', 'Dharmil', 'Vatsal'], 'Age': [18, 17, 16, 17]}\n",
            "\n",
            "DataFrame : \n",
            "      Name  Age\n",
            "0     Vraj   18\n",
            "1  Vainavi   17\n",
            "2  Dharmil   16\n",
            "3   Vatsal   17\n"
          ]
        }
      ]
    },
    {
      "cell_type": "code",
      "source": [
        "# Importing Pandas Library\n",
        "import pandas as pd\n",
        "\n",
        "# Declaring Dictionary\n",
        "dict = {'Name': ['Vraj', 'Vainavi', 'Dharmil', 'Vatsal'],\n",
        "       'Age': [18, 17, 16, 17]}\n",
        "\n",
        "# Performing Sort Operation\n",
        "df = pd.DataFrame(dict)\n",
        "print(\"Before sorting : \")\n",
        "print(df, end=\"\\n\\n\")\n",
        "print(\"After sorting : \")\n",
        "print(df.sort_values(by='Name',ascending=True))"
      ],
      "metadata": {
        "id": "ZdAyLR1w8xhG",
        "colab": {
          "base_uri": "https://localhost:8080/"
        },
        "outputId": "38802bf1-f969-4786-ebf7-ffca6ee5fa6b"
      },
      "execution_count": null,
      "outputs": [
        {
          "output_type": "stream",
          "name": "stdout",
          "text": [
            "Before sorting : \n",
            "      Name  Age\n",
            "0     Vraj   18\n",
            "1  Vainavi   17\n",
            "2  Dharmil   16\n",
            "3   Vatsal   17\n",
            "\n",
            "After sorting : \n",
            "      Name  Age\n",
            "2  Dharmil   16\n",
            "1  Vainavi   17\n",
            "3   Vatsal   17\n",
            "0     Vraj   18\n"
          ]
        }
      ]
    },
    {
      "cell_type": "code",
      "source": [
        "# Importing Pandas Library\n",
        "import pandas as pd\n",
        "\n",
        "# Declaring Dictionary\n",
        "data = {\n",
        "'A': ['A1', 'A2', 'A3', 'A4', 'A5'],\n",
        "'B': ['B1', 'B2', 'B3', 'B4', 'B5'],\n",
        "'C': ['C1', 'C2', 'C3', 'C4', 'C5'],\n",
        "'D': ['D1', 'D2', 'D3', 'D4', 'D5'],\n",
        "'E': ['E1', 'E2', 'E3', 'E4', 'E5']}\n",
        "\n",
        "# Creating DataFrame out of Dictionary\n",
        "df = pd.DataFrame(data)\n",
        "print(\"Original DataFrame : \")\n",
        "print(df, end=\"\\n\\n\")\n",
        "\n",
        "# Dropping Column B\n",
        "print(\"DataFrame after dropping Column B : \")\n",
        "print(df.drop(['B'], axis=1))"
      ],
      "metadata": {
        "id": "1J4rVueO8xeV",
        "colab": {
          "base_uri": "https://localhost:8080/"
        },
        "outputId": "c2778d45-b6ef-467b-9c33-ff8050d5cf87"
      },
      "execution_count": null,
      "outputs": [
        {
          "output_type": "stream",
          "name": "stdout",
          "text": [
            "Original DataFrame : \n",
            "    A   B   C   D   E\n",
            "0  A1  B1  C1  D1  E1\n",
            "1  A2  B2  C2  D2  E2\n",
            "2  A3  B3  C3  D3  E3\n",
            "3  A4  B4  C4  D4  E4\n",
            "4  A5  B5  C5  D5  E5\n",
            "\n",
            "DataFrame after dropping Column B : \n",
            "    A   C   D   E\n",
            "0  A1  C1  D1  E1\n",
            "1  A2  C2  D2  E2\n",
            "2  A3  C3  D3  E3\n",
            "3  A4  C4  D4  E4\n",
            "4  A5  C5  D5  E5\n"
          ]
        }
      ]
    },
    {
      "cell_type": "code",
      "source": [
        "# Importing Pandas Library\n",
        "import pandas as pd\n",
        "\n",
        "# Declaring Dictionary\n",
        "dict = {'Col1': [1, 4, 3, 4, 5], 'Col2': [4, 5, 6, 7, 8], 'Col3': [7, 8, 9, 0, 1]}\n",
        "\n",
        "# Creating DataFrame out of Dictionary\n",
        "df = pd.DataFrame(data=dict)\n",
        "print(\"Original DataFrame : \")\n",
        "print(df,end='\\n\\n')\n",
        "\n",
        "# Storing DataFrame in .csv file\n",
        "print('Data from student.csv file : ')\n",
        "df.to_csv('student.csv', sep='\\t', index=False)\n",
        "new_df = pd.read_csv('student.csv')\n",
        "print(new_df)"
      ],
      "metadata": {
        "id": "g3X8FqTp8xcC",
        "colab": {
          "base_uri": "https://localhost:8080/"
        },
        "outputId": "c4919769-3f1f-4e63-841f-ba6d5377ba77"
      },
      "execution_count": null,
      "outputs": [
        {
          "output_type": "stream",
          "name": "stdout",
          "text": [
            "Original DataFrame : \n",
            "   Col1  Col2  Col3\n",
            "0     1     4     7\n",
            "1     4     5     8\n",
            "2     3     6     9\n",
            "3     4     7     0\n",
            "4     5     8     1\n",
            "\n",
            "Data from student.csv file : \n",
            "  Col1\\tCol2\\tCol3\n",
            "0          1\\t4\\t7\n",
            "1          4\\t5\\t8\n",
            "2          3\\t6\\t9\n",
            "3          4\\t7\\t0\n",
            "4          5\\t8\\t1\n"
          ]
        }
      ]
    },
    {
      "cell_type": "markdown",
      "source": [
        "# **Practical 8**"
      ],
      "metadata": {
        "id": "kEhT6eHVhxCT"
      }
    },
    {
      "cell_type": "markdown",
      "source": [
        "**Aim -- Write a Pandas program to create a line plot of the opening closing stock prices of given company between two specific dates.**"
      ],
      "metadata": {
        "id": "0hxifTRRiVKW"
      }
    },
    {
      "cell_type": "code",
      "source": [
        "# Importing Pandas Library and Matplotlib Library\n",
        "import pandas as pd\n",
        "import matplotlib.pyplot as plt\n",
        "\n",
        "# Reading Data from CSV File\n",
        "df = pd.read_csv(\"alphabet_stock_data.csv\")\n",
        "\n",
        "# Defining Start Date and End Date\n",
        "start_date = pd.to_datetime('2020-4-1')\n",
        "end_date = pd.to_datetime('2020-09-30')\n",
        "df['Date'] = pd.to_datetime(df['Date'])\n",
        "new_df = (df['Date']>= start_date) & (df['Date']<= end_date)\n",
        "\n",
        "df2 = df.loc[new_df]\n",
        "plt.figure(figsize=(10,10))\n",
        "df2.plot(x='Date', y=['Open', 'Close']);\n",
        "plt.suptitle('Opening/Closing stock prices of Alphabet Inc.\\n 01-04-2020 to 30-09-2020', fontsize=12, color='black')\n",
        "plt.xlabel(\"Date\",fontsize=12, color='black')\n",
        "plt.ylabel(\"Price\", fontsize=12, color='Blue')\n",
        "plt.show()"
      ],
      "metadata": {
        "id": "Q5i_DPe39EAJ",
        "colab": {
          "base_uri": "https://localhost:8080/",
          "height": 502
        },
        "outputId": "8ee3795e-f210-4008-b99e-fe58d023c321"
      },
      "execution_count": null,
      "outputs": [
        {
          "output_type": "display_data",
          "data": {
            "text/plain": [
              "<Figure size 1000x1000 with 0 Axes>"
            ]
          },
          "metadata": {}
        },
        {
          "output_type": "display_data",
          "data": {
            "text/plain": [
              "<Figure size 640x480 with 1 Axes>"
            ],
            "image/png": "[encoded data removed]"
          },
          "metadata": {}
        }
      ]
    },
    {
      "cell_type": "markdown",
      "source": [
        "# **Practical 9**"
      ],
      "metadata": {
        "id": "-uVpg9wxhw8R"
      }
    },
    {
      "cell_type": "markdown",
      "source": [
        "**Aim -- Write a Pandas program to create a plot of Open, High, Low, Close, Adjusted Closing prices and Volume of given company between two specific dates.**"
      ],
      "metadata": {
        "id": "xB7nI8OgiVzS"
      }
    },
    {
      "cell_type": "code",
      "source": [
        "# Importing Pandas Library and Matplotlib Library\n",
        "import pandas as pd\n",
        "import matplotlib.pyplot as plt\n",
        "\n",
        "# Reading Data from CSV File\n",
        "df = pd.read_csv(\"alphabet_stock_data.csv\")\n",
        "\n",
        "# Defining Start Date and End Date\n",
        "start_date = pd.to_datetime('2020-4-1')\n",
        "end_date = pd.to_datetime('2020-9-30')\n",
        "df['Date'] = pd.to_datetime(df['Date'])\n",
        "new_df = (df['Date']>= start_date) & (df['Date']<= end_date)\n",
        "\n",
        "\n",
        "df1 = df.loc[new_df]\n",
        "stock_data = df1.set_index('Date')\n",
        "stock_data.Volume /= 1000\n",
        "ax = plt.gca()\n",
        "\n",
        "# Plotting the Graph\n",
        "stock_data.plot( y = 'Open', ax = ax, color=\"green\")\n",
        "stock_data.plot( y = 'Close', ax = ax, color=\"red\" )\n",
        "stock_data.plot( y = 'High', ax = ax, color=\"yellow\" )\n",
        "stock_data.plot( y = 'Low', ax = ax, color=\"black\" )\n",
        "stock_data.plot( y = 'Adj Close', ax = ax, color=\"blue\" )\n",
        "plt.legend(loc = 'best')\n",
        "plt.suptitle('Open, High, Low, Close, Adj Close prices & Volume of Alphabet Inc. \\n From 01-04-2020 to 30-09-2020', fontsize=12, color='black')\n",
        "plt.show()"
      ],
      "metadata": {
        "id": "rT09eH3zijKY",
        "colab": {
          "base_uri": "https://localhost:8080/",
          "height": 481
        },
        "outputId": "34b2cec2-b5fb-47e6-8908-97bb34cd462a"
      },
      "execution_count": null,
      "outputs": [
        {
          "output_type": "display_data",
          "data": {
            "text/plain": [
              "<Figure size 640x480 with 1 Axes>"
            ],
            "image/png": "[encoded data removed]"
          },
          "metadata": {}
        }
      ]
    },
    {
      "cell_type": "markdown",
      "source": [
        "# **Practical 10**"
      ],
      "metadata": {
        "id": "NKmctejshw5N"
      }
    },
    {
      "cell_type": "markdown",
      "source": [
        "**Aim -- Write a Pandas program to implement following operation**\n",
        "\n",
        "1. **To find and drop the missing values from the given dataset**\n",
        "2. **To remove the duplicates from the given dataset**\n"
      ],
      "metadata": {
        "id": "1vjV9MAKiWe6"
      }
    },
    {
      "cell_type": "code",
      "source": [
        "# Importing NumPy Library and Pandas Library\n",
        "import numpy as np\n",
        "import pandas as pd\n",
        "\n",
        "# Declaring Dictionary\n",
        "dict = {'First Score' : [100, 90, np.nan, 85],\n",
        "        'Second Score' : [100, np.nan, np.nan, 85],\n",
        "        'Third Score' : [100, 90, np.nan, np.nan],\n",
        "        'Forth Score' : [100, 90, 80, 85]}\n",
        "df = pd.DataFrame(dict)\n",
        "\n",
        "# Dropping Null Values\n",
        "print(\"Original DataFrame : \")\n",
        "print(df, end=\"\\n\\n\")\n",
        "print(\"DataFrame after Dropping Null Value : \")\n",
        "print(df.dropna())"
      ],
      "metadata": {
        "id": "0ZjVcVRn90IW",
        "colab": {
          "base_uri": "https://localhost:8080/"
        },
        "outputId": "8dbd29c2-0487-4797-c5d0-f182f38d3fe3"
      },
      "execution_count": null,
      "outputs": [
        {
          "output_type": "stream",
          "name": "stdout",
          "text": [
            "Original DataFrame : \n",
            "   First Score  Second Score  Third Score  Forth Score\n",
            "0        100.0         100.0        100.0          100\n",
            "1         90.0           NaN         90.0           90\n",
            "2          NaN           NaN          NaN           80\n",
            "3         85.0          85.0          NaN           85\n",
            "\n",
            "DataFrame after Dropping Null Value : \n",
            "   First Score  Second Score  Third Score  Forth Score\n",
            "0        100.0         100.0        100.0          100\n"
          ]
        }
      ]
    },
    {
      "cell_type": "code",
      "source": [
        "# Importing NumPy Library and Pandas Library\n",
        "import numpy as np\n",
        "import pandas as pd\n",
        "\n",
        "# Declaring Dictionary\n",
        "dict = {'A' : ['Team A', 'Team B', 'Team C', 'Team D', 'Team E'],\n",
        "        'B' : [50, 40, 40, 30, 50],\n",
        "        'C' : [True, False, True, False, False]}\n",
        "df1 = pd.DataFrame(dict)\n",
        "\n",
        "# Dropping Duplicate Values\n",
        "print(\"Original DataFrame : \")\n",
        "print(df1)\n",
        "print(\"DatFrame After Dropping Duplicate Values : \")\n",
        "print(df1.drop_duplicates())"
      ],
      "metadata": {
        "id": "dCJl-ZBH9z_b",
        "colab": {
          "base_uri": "https://localhost:8080/"
        },
        "outputId": "ee239678-8805-4feb-fb23-3b81b587e4bb"
      },
      "execution_count": null,
      "outputs": [
        {
          "output_type": "stream",
          "name": "stdout",
          "text": [
            "Original DataFrame : \n",
            "        A   B      C\n",
            "0  Team A  50   True\n",
            "1  Team B  40  False\n",
            "2  Team C  40   True\n",
            "3  Team D  30  False\n",
            "4  Team E  50  False\n",
            "DatFrame After Dropping Duplicate Values : \n",
            "        A   B      C\n",
            "0  Team A  50   True\n",
            "1  Team B  40  False\n",
            "2  Team C  40   True\n",
            "3  Team D  30  False\n",
            "4  Team E  50  False\n"
          ]
        }
      ]
    },
    {
      "cell_type": "markdown",
      "source": [
        "# **Practical 11**"
      ],
      "metadata": {
        "id": "w7QZKAGZhwzw"
      }
    },
    {
      "cell_type": "markdown",
      "source": [
        "**Aim -- Write a Pandas program to filter all columns where all entries present, check which rows and columns has a NaN and finally drop rows with any NaNs from the given dataset.**"
      ],
      "metadata": {
        "id": "OScpfRSGiXDS"
      }
    },
    {
      "cell_type": "code",
      "source": [
        "# Importing Pandas and NumPy Library\n",
        "import pandas as pd\n",
        "import numpy as np\n",
        "\n",
        "# Declaring DataFrame\n",
        "df=pd.DataFrame()\n",
        "l={'a':[10,20,30,40,50,60,70,80],'b':[1,2,3,4,5,6,7,8],'c':[4,5,np.nan,8,4,8,np.nan,33]}\n",
        "df=pd.DataFrame(l)\n",
        "print(\"Original DataFrame : \")\n",
        "print(df)\n",
        "\n",
        "# Filtering the DataFrame\n",
        "print(\"After Filtering Null Values from DataFrame : \")\n",
        "print(df.loc[:, df.notnull().all()])"
      ],
      "metadata": {
        "id": "9hvt8JHf-TK-",
        "colab": {
          "base_uri": "https://localhost:8080/"
        },
        "outputId": "ba28f656-9a72-445b-da40-dc3fb6b7686e"
      },
      "execution_count": null,
      "outputs": [
        {
          "output_type": "stream",
          "name": "stdout",
          "text": [
            "Original DataFrame : \n",
            "    a  b     c\n",
            "0  10  1   4.0\n",
            "1  20  2   5.0\n",
            "2  30  3   NaN\n",
            "3  40  4   8.0\n",
            "4  50  5   4.0\n",
            "5  60  6   8.0\n",
            "6  70  7   NaN\n",
            "7  80  8  33.0\n",
            "After Filtering Null Values from DataFrame : \n",
            "    a  b\n",
            "0  10  1\n",
            "1  20  2\n",
            "2  30  3\n",
            "3  40  4\n",
            "4  50  5\n",
            "5  60  6\n",
            "6  70  7\n",
            "7  80  8\n"
          ]
        }
      ]
    },
    {
      "cell_type": "markdown",
      "source": [
        "# **Practical 12**"
      ],
      "metadata": {
        "id": "bSUm7ZTYhwwx"
      }
    },
    {
      "cell_type": "markdown",
      "source": [
        "**Aim -- Write a Python program using Scikit-learn to print the keys, number of rows-columns, feature names and the description of the given data.**"
      ],
      "metadata": {
        "id": "0Ia5gvswiXki"
      }
    },
    {
      "cell_type": "code",
      "source": [
        "# Importing Sci-kit Learn Dataset\n",
        "from sklearn.datasets import load_iris\n",
        "data = load_iris()\n",
        "\n",
        "# Performing Sci-kit learn Functions\n",
        "print(\"Keys in the dataset:\")\n",
        "print(data.keys())\n",
        "n_samples, n_features = data.data.shape\n",
        "print(f\"\\nNumber of rows: {n_samples}\")\n",
        "print(f\"Number of columns (features): {n_features}\")\n",
        "print(\"\\nFeature names:\")\n",
        "print(data.feature_names)\n",
        "print(\"\\nDataset Description:\")\n",
        "print(data.DESCR)"
      ],
      "metadata": {
        "id": "iTSUoJHm-Stx",
        "colab": {
          "base_uri": "https://localhost:8080/"
        },
        "outputId": "420d9c33-1db6-466f-9c60-e825cedb6cce"
      },
      "execution_count": null,
      "outputs": [
        {
          "output_type": "stream",
          "name": "stdout",
          "text": [
            "Keys in the dataset:\n",
            "dict_keys(['data', 'target', 'frame', 'target_names', 'DESCR', 'feature_names', 'filename', 'data_module'])\n",
            "\n",
            "Number of rows: 150\n",
            "Number of columns (features): 4\n",
            "\n",
            "Feature names:\n",
            "['sepal length (cm)', 'sepal width (cm)', 'petal length (cm)', 'petal width (cm)']\n",
            "\n",
            "Dataset Description:\n",
            ".. _iris_dataset:\n",
            "\n",
            "Iris plants dataset\n",
            "--------------------\n",
            "\n",
            "**Data Set Characteristics:**\n",
            "\n",
            "    :Number of Instances: 150 (50 in each of three classes)\n",
            "    :Number of Attributes: 4 numeric, predictive attributes and the class\n",
            "    :Attribute Information:\n",
            "        - sepal length in cm\n",
            "        - sepal width in cm\n",
            "        - petal length in cm\n",
            "        - petal width in cm\n",
            "        - class:\n",
            "                - Iris-Setosa\n",
            "                - Iris-Versicolour\n",
            "                - Iris-Virginica\n",
            "                \n",
            "    :Summary Statistics:\n",
            "\n",
            "    ============== ==== ==== ======= ===== ====================\n",
            "                    Min  Max   Mean    SD   Class Correlation\n",
            "    ============== ==== ==== ======= ===== ====================\n",
            "    sepal length:   4.3  7.9   5.84   0.83    0.7826\n",
            "    sepal width:    2.0  4.4   3.05   0.43   -0.4194\n",
            "    petal length:   1.0  6.9   3.76   1.76    0.9490  (high!)\n",
            "    petal width:    0.1  2.5   1.20   0.76    0.9565  (high!)\n",
            "    ============== ==== ==== ======= ===== ====================\n",
            "\n",
            "    :Missing Attribute Values: None\n",
            "    :Class Distribution: 33.3% for each of 3 classes.\n",
            "    :Creator: R.A. Fisher\n",
            "    :Donor: Michael Marshall (MARSHALL%PLU@io.arc.nasa.gov)\n",
            "    :Date: July, 1988\n",
            "\n",
            "The famous Iris database, first used by Sir R.A. Fisher. The dataset is taken\n",
            "from Fisher's paper. Note that it's the same as in R, but not as in the UCI\n",
            "Machine Learning Repository, which has two wrong data points.\n",
            "\n",
            "This is perhaps the best known database to be found in the\n",
            "pattern recognition literature.  Fisher's paper is a classic in the field and\n",
            "is referenced frequently to this day.  (See Duda & Hart, for example.)  The\n",
            "data set contains 3 classes of 50 instances each, where each class refers to a\n",
            "type of iris plant.  One class is linearly separable from the other 2; the\n",
            "latter are NOT linearly separable from each other.\n",
            "\n",
            ".. topic:: References\n",
            "\n",
            "   - Fisher, R.A. \"The use of multiple measurements in taxonomic problems\"\n",
            "     Annual Eugenics, 7, Part II, 179-188 (1936); also in \"Contributions to\n",
            "     Mathematical Statistics\" (John Wiley, NY, 1950).\n",
            "   - Duda, R.O., & Hart, P.E. (1973) Pattern Classification and Scene Analysis.\n",
            "     (Q327.D83) John Wiley & Sons.  ISBN 0-471-22361-1.  See page 218.\n",
            "   - Dasarathy, B.V. (1980) \"Nosing Around the Neighborhood: A New System\n",
            "     Structure and Classification Rule for Recognition in Partially Exposed\n",
            "     Environments\".  IEEE Transactions on Pattern Analysis and Machine\n",
            "     Intelligence, Vol. PAMI-2, No. 1, 67-71.\n",
            "   - Gates, G.W. (1972) \"The Reduced Nearest Neighbor Rule\".  IEEE Transactions\n",
            "     on Information Theory, May 1972, 431-433.\n",
            "   - See also: 1988 MLC Proceedings, 54-64.  Cheeseman et al\"s AUTOCLASS II\n",
            "     conceptual clustering system finds 3 classes in the data.\n",
            "   - Many, many more ...\n"
          ]
        }
      ]
    },
    {
      "cell_type": "markdown",
      "source": [
        "# **Practical 13**"
      ],
      "metadata": {
        "id": "bL4-bBiehwfN"
      }
    },
    {
      "cell_type": "markdown",
      "source": [
        "**Aim -- Write a Python program to implement K-Nearest Neighbour supervised machine learning algorithm for given dataset.**"
      ],
      "metadata": {
        "id": "XhZ4kYMwiYLz"
      }
    },
    {
      "cell_type": "code",
      "source": [
        "import numpy as np\n",
        "import matplotlib.pyplot as plt\n",
        "from sklearn.model_selection import train_test_split\n",
        "from sklearn.neighbors import KNeighborsClassifier\n",
        "from sklearn.metrics import accuracy_score\n",
        "from sklearn.datasets import load_wine\n",
        "\n",
        "wine_data = load_wine()\n",
        "x = wine_data.data\n",
        "y = wine_data.target\n",
        "\n",
        "x_train,x_test,y_train,y_test =train_test_split(x,y,test_size=0.2)\n",
        "\n",
        "knn_class = KNeighborsClassifier(n_neighbors = 5)\n",
        "knn_class.fit(x_train,y_train)\n",
        "\n",
        "y_pred = knn_class.predict(x_test)\n",
        "acc = accuracy_score(y_test,y_pred)\n",
        "print(f\"Accuracy:{acc*100}\")\n",
        "plt.figure()\n",
        "\n",
        "plt.scatter(x_test[:,0],x_test[:,1],c = y_test,label='Actual')\n",
        "\n",
        "plt.scatter(x_test[:,0],x_test[:,1],label = \"Predict\",marker='x')\n",
        "\n",
        "plt.show()"
      ],
      "metadata": {
        "id": "2kCbUrwL-UPm",
        "colab": {
          "base_uri": "https://localhost:8080/",
          "height": 447
        },
        "outputId": "edb8913b-9d23-404a-ebe8-427ce3454c44"
      },
      "execution_count": null,
      "outputs": [
        {
          "output_type": "stream",
          "name": "stdout",
          "text": [
            "Accuracy:72.22222222222221\n"
          ]
        },
        {
          "output_type": "display_data",
          "data": {
            "text/plain": [
              "<Figure size 640x480 with 1 Axes>"
            ],
            "image/png": "[encoded data removed]"
          },
          "metadata": {}
        }
      ]
    },
    {
      "cell_type": "markdown",
      "source": [
        "# **Practical 14**"
      ],
      "metadata": {
        "id": "r_wL8sETiJJD"
      }
    },
    {
      "cell_type": "markdown",
      "source": [
        "**Aim -- Write a Python program to implement a machine learning algorithm for given dataset. (It is recommended to assign different machine learning algorithms group wise - micro project)**"
      ],
      "metadata": {
        "id": "Q-uRjrcdiYzs"
      }
    },
    {
      "cell_type": "code",
      "source": [
        "# importing the necessary Python libraries and the dataset\n",
        "import pandas as pd\n",
        "import numpy as np\n",
        "from sklearn.feature_extraction.text import CountVectorizer\n",
        "from sklearn.model_selection import train_test_split\n",
        "from sklearn.naive_bayes import MultinomialNB\n",
        "data = pd.read_csv(\"/content/Language_Detection.csv\")\n",
        "\n",
        "# Check whether this dataset contains any null values or not\n",
        "data.isnull().sum()\n",
        "\n",
        "# Languages present in this dataset\n",
        "data[\"Language\"].value_counts()\n",
        "# This dataset contains 22 languages with 1000 sentences from each language.\n",
        "# This is a very balanced dataset with no missing values.\n",
        "# This dataset is completely ready to be used to train a machine learning model.\n",
        "\n",
        "# Spliting the data into training and test sets:\n",
        "x = np.array(data[\"Text\"])\n",
        "y = np.array(data[\"Language\"])\n",
        "\n",
        "cv = CountVectorizer()\n",
        "X = cv.fit_transform(x)\n",
        "X_train, X_test, y_train, y_test = train_test_split(X, y,\n",
        "                                                    test_size=0.33,\n",
        "                                                    random_state=42)\n",
        "\n",
        "# To perform Multiclass Classification we used Multinomial Naïve Bayes Algorithm\n",
        "model = MultinomialNB()\n",
        "model.fit(X_train,y_train)\n",
        "model.score(X_test,y_test)\n",
        "\n",
        "# Detect the language of a text by taking a user input\n",
        "user = input(\"Enter a Text: \")\n",
        "data = cv.transform([user]).toarray()\n",
        "output = model.predict(data)\n",
        "print(output)"
      ],
      "metadata": {
        "id": "JYTMhrkKiH0S",
        "colab": {
          "base_uri": "https://localhost:8080/"
        },
        "outputId": "f8fe068f-43b3-44e7-d22b-a7192d8344d2"
      },
      "execution_count": null,
      "outputs": [
        {
          "output_type": "stream",
          "name": "stdout",
          "text": [
            "Enter a Text: Introdução ao aprendizado de máquina\n",
            "['Portugeese']\n"
          ]
        }
      ]
    },
    {
      "cell_type": "markdown",
      "source": [
        "# **Extra Practical 1**"
      ],
      "metadata": {
        "id": "IXxyPm2MP-Qy"
      }
    },
    {
      "cell_type": "markdown",
      "source": [
        "**Aim -- Write a program to make a Pandas DataFrame with a Two-dimensional list.**"
      ],
      "metadata": {
        "id": "VTbsnx43QOvV"
      }
    },
    {
      "cell_type": "code",
      "source": [
        "import pandas as pd\n",
        "\n",
        "# List\n",
        "lst = [['Vraj', 'Patel', 18],\n",
        "       ['Vainavi', 'Raval', 18]]\n",
        "\n",
        "df = pd.DataFrame(lst, columns =['First Name', 'Last Name', 'Age'])\n",
        "print(df)"
      ],
      "metadata": {
        "id": "yYiG89QkTm3N",
        "colab": {
          "base_uri": "https://localhost:8080/"
        },
        "outputId": "49876233-1b62-45e9-d491-b2a4c14c742c"
      },
      "execution_count": null,
      "outputs": [
        {
          "output_type": "stream",
          "name": "stdout",
          "text": [
            "  First Name Last Name  Age\n",
            "0       Vraj     Patel   18\n",
            "1    Vainavi     Raval   18\n"
          ]
        }
      ]
    },
    {
      "cell_type": "markdown",
      "source": [
        "# **Extra Practical 2**"
      ],
      "metadata": {
        "id": "pRd7W98QQFwI"
      }
    },
    {
      "cell_type": "markdown",
      "source": [
        "**Aim -- Write a program to Create Bar Chart using matplotlib.**"
      ],
      "metadata": {
        "id": "5MmJQkHVQPeM"
      }
    },
    {
      "cell_type": "code",
      "source": [
        "import matplotlib.pyplot as plt\n",
        "import pandas as pd\n",
        "\n",
        "data = {'country': ['A', 'B', 'C', 'D', 'E'],\n",
        "        'gdp_per_capita': [45000, 42000, 52000, 49000, 47000]\n",
        "       }\n",
        "df = pd.DataFrame(data)\n",
        "\n",
        "colors = ['green','blue','purple','brown','teal']\n",
        "plt.bar(df['country'], df['gdp_per_capita'], color=colors)\n",
        "plt.title('Country Vs GDP Per Capita', fontsize=14)\n",
        "plt.xlabel('Country', fontsize=14)\n",
        "plt.ylabel('GDP Per Capita', fontsize=14)\n",
        "plt.grid(True)\n",
        "plt.show()"
      ],
      "metadata": {
        "colab": {
          "base_uri": "https://localhost:8080/",
          "height": 478
        },
        "id": "piBuhkkeQGfS",
        "outputId": "f1bd72a1-4e55-4f10-d8f8-de1cab91ac2b"
      },
      "execution_count": null,
      "outputs": [
        {
          "output_type": "display_data",
          "data": {
            "text/plain": [
              "<Figure size 640x480 with 1 Axes>"
            ],
            "image/png": "[encoded data removed]"
          },
          "metadata": {}
        }
      ]
    },
    {
      "cell_type": "markdown",
      "source": [
        "# **Extra Practical 3**"
      ],
      "metadata": {
        "id": "qKrgIJvCQG7R"
      }
    },
    {
      "cell_type": "markdown",
      "source": [
        "**Aim -- Write a Python program to implement decision tree in supervised machine learning algorithm for given dataset.**"
      ],
      "metadata": {
        "id": "2sgORwQwQRA6"
      }
    },
    {
      "cell_type": "code",
      "source": [
        "import sys\n",
        "import matplotlib\n",
        "matplotlib.use('Agg')\n",
        "\n",
        "import pandas\n",
        "from sklearn import tree\n",
        "from sklearn.tree import DecisionTreeClassifier\n",
        "import matplotlib.pyplot as plt\n",
        "\n",
        "df = pandas.read_csv(\"data.csv\")\n",
        "\n",
        "d = {'UK': 0, 'USA': 1, 'N': 2}\n",
        "df['Nationality'] = df['Nationality'].map(d)\n",
        "d = {'YES': 1, 'NO': 0}\n",
        "df['Go'] = df['Go'].map(d)\n",
        "\n",
        "features = ['Age', 'Experience', 'Rank', 'Nationality']\n",
        "\n",
        "X = df[features]\n",
        "y = df['Go']\n",
        "\n",
        "dtree = DecisionTreeClassifier()\n",
        "dtree = dtree.fit(X, y)\n",
        "\n",
        "tree.plot_tree(dtree, feature_names=features)\n",
        "\n",
        "#Two  lines to make our compiler able to draw:\n",
        "plt.savefig(sys.stdout.buffer)\n",
        "sys.stdout.flush()"
      ],
      "metadata": {
        "id": "Xlep2PM3QHe_"
      },
      "execution_count": null,
      "outputs": []
    },
    {
      "cell_type": "code",
      "source": [],
      "metadata": {
        "id": "avsxpXP6BnhJ"
      },
      "execution_count": null,
      "outputs": []
    }
  ]
}